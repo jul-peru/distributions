{
 "cells": [
  {
   "cell_type": "code",
   "execution_count": 1,
   "id": "a018e15a-dcad-475e-a581-2cd0f1f6e9e6",
   "metadata": {},
   "outputs": [],
   "source": [
    "import numpy as np\n",
    "import pandas as pd\n",
    "\n",
    "num_samples = 400\n",
    "\n",
    "# The desired mean values of the sample.\n",
    "mu = np.array([5.0, 0.0, 10.0])\n",
    "\n",
    "# The desired covariance matrix.\n",
    "r = np.array([\n",
    "        [  3.40, -2.75, -2.00],\n",
    "        [ -2.75,  5.50,  1.50],\n",
    "        [ -2.00,  1.50,  1.25]\n",
    "    ])\n",
    "\n",
    "# Generate the random samples.\n",
    "rng = np.random.default_rng()\n",
    "y = rng.multivariate_normal(mu, r, size=num_samples)"
   ]
  },
  {
   "cell_type": "code",
   "execution_count": 2,
   "id": "8a52cc93-abbe-425b-8778-a225c81887f9",
   "metadata": {},
   "outputs": [
    {
     "data": {
      "text/plain": [
       "array([[ 4.45551092, -0.17009855, 10.01483142],\n",
       "       [ 6.8341333 , -5.11816642,  8.94314757],\n",
       "       [ 4.13392581, -1.04910062, 10.90250819],\n",
       "       ...,\n",
       "       [ 2.77359269,  1.25675715, 11.59120898],\n",
       "       [ 6.36048122, -2.52054484,  9.08188995],\n",
       "       [ 6.9839313 , -2.91019918,  8.95777627]])"
      ]
     },
     "execution_count": 2,
     "metadata": {},
     "output_type": "execute_result"
    }
   ],
   "source": [
    "y"
   ]
  },
  {
   "cell_type": "code",
   "execution_count": 5,
   "id": "c0a29a60-51fe-4ad3-aae5-201d32e5de98",
   "metadata": {},
   "outputs": [
    {
     "data": {
      "text/html": [
       "<div>\n",
       "<style scoped>\n",
       "    .dataframe tbody tr th:only-of-type {\n",
       "        vertical-align: middle;\n",
       "    }\n",
       "\n",
       "    .dataframe tbody tr th {\n",
       "        vertical-align: top;\n",
       "    }\n",
       "\n",
       "    .dataframe thead th {\n",
       "        text-align: right;\n",
       "    }\n",
       "</style>\n",
       "<table border=\"1\" class=\"dataframe\">\n",
       "  <thead>\n",
       "    <tr style=\"text-align: right;\">\n",
       "      <th></th>\n",
       "      <th>sales</th>\n",
       "      <th>reg</th>\n",
       "      <th>advert</th>\n",
       "    </tr>\n",
       "  </thead>\n",
       "  <tbody>\n",
       "    <tr>\n",
       "      <th>0</th>\n",
       "      <td>4.455511</td>\n",
       "      <td>-0.170099</td>\n",
       "      <td>10.014831</td>\n",
       "    </tr>\n",
       "    <tr>\n",
       "      <th>1</th>\n",
       "      <td>6.834133</td>\n",
       "      <td>-5.118166</td>\n",
       "      <td>8.943148</td>\n",
       "    </tr>\n",
       "    <tr>\n",
       "      <th>2</th>\n",
       "      <td>4.133926</td>\n",
       "      <td>-1.049101</td>\n",
       "      <td>10.902508</td>\n",
       "    </tr>\n",
       "    <tr>\n",
       "      <th>3</th>\n",
       "      <td>3.298655</td>\n",
       "      <td>2.457642</td>\n",
       "      <td>11.325254</td>\n",
       "    </tr>\n",
       "    <tr>\n",
       "      <th>4</th>\n",
       "      <td>3.791796</td>\n",
       "      <td>1.734379</td>\n",
       "      <td>10.771147</td>\n",
       "    </tr>\n",
       "    <tr>\n",
       "      <th>...</th>\n",
       "      <td>...</td>\n",
       "      <td>...</td>\n",
       "      <td>...</td>\n",
       "    </tr>\n",
       "    <tr>\n",
       "      <th>395</th>\n",
       "      <td>7.253422</td>\n",
       "      <td>-2.871916</td>\n",
       "      <td>7.808407</td>\n",
       "    </tr>\n",
       "    <tr>\n",
       "      <th>396</th>\n",
       "      <td>4.516358</td>\n",
       "      <td>1.274004</td>\n",
       "      <td>10.091439</td>\n",
       "    </tr>\n",
       "    <tr>\n",
       "      <th>397</th>\n",
       "      <td>2.773593</td>\n",
       "      <td>1.256757</td>\n",
       "      <td>11.591209</td>\n",
       "    </tr>\n",
       "    <tr>\n",
       "      <th>398</th>\n",
       "      <td>6.360481</td>\n",
       "      <td>-2.520545</td>\n",
       "      <td>9.081890</td>\n",
       "    </tr>\n",
       "    <tr>\n",
       "      <th>399</th>\n",
       "      <td>6.983931</td>\n",
       "      <td>-2.910199</td>\n",
       "      <td>8.957776</td>\n",
       "    </tr>\n",
       "  </tbody>\n",
       "</table>\n",
       "<p>400 rows × 3 columns</p>\n",
       "</div>"
      ],
      "text/plain": [
       "        sales       reg     advert\n",
       "0    4.455511 -0.170099  10.014831\n",
       "1    6.834133 -5.118166   8.943148\n",
       "2    4.133926 -1.049101  10.902508\n",
       "3    3.298655  2.457642  11.325254\n",
       "4    3.791796  1.734379  10.771147\n",
       "..        ...       ...        ...\n",
       "395  7.253422 -2.871916   7.808407\n",
       "396  4.516358  1.274004  10.091439\n",
       "397  2.773593  1.256757  11.591209\n",
       "398  6.360481 -2.520545   9.081890\n",
       "399  6.983931 -2.910199   8.957776\n",
       "\n",
       "[400 rows x 3 columns]"
      ]
     },
     "execution_count": 5,
     "metadata": {},
     "output_type": "execute_result"
    }
   ],
   "source": [
    "data_sample = pd.DataFrame(y)\n",
    "data_sample.columns = [\"sales\", \"reg\", \"advert\"]\n",
    "data_sample"
   ]
  },
  {
   "cell_type": "code",
   "execution_count": 6,
   "id": "a87b5274-748d-4287-ac04-f8f515c73ba9",
   "metadata": {},
   "outputs": [],
   "source": [
    "data_sample[\"date\"] = pd.date_range(start='1/1/2022', periods=num_samples)"
   ]
  },
  {
   "cell_type": "code",
   "execution_count": 12,
   "id": "464d3c7b-b191-49ba-9b90-a45b2943d75d",
   "metadata": {},
   "outputs": [],
   "source": [
    "data_sample[[\"date\", \"advert\", \"sales\"]].to_csv(\"data_sample.csv\", index=None)"
   ]
  }
 ],
 "metadata": {
  "environment": {
   "kernel": "python3",
   "name": "common-cpu.m104",
   "type": "gcloud",
   "uri": "gcr.io/deeplearning-platform-release/base-cpu:m104"
  },
  "kernelspec": {
   "display_name": "Python 3",
   "language": "python",
   "name": "python3"
  },
  "language_info": {
   "codemirror_mode": {
    "name": "ipython",
    "version": 3
   },
   "file_extension": ".py",
   "mimetype": "text/x-python",
   "name": "python",
   "nbconvert_exporter": "python",
   "pygments_lexer": "ipython3",
   "version": "3.7.12"
  }
 },
 "nbformat": 4,
 "nbformat_minor": 5
}
